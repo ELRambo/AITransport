{
 "cells": [
  {
   "cell_type": "markdown",
   "metadata": {
    "id": "YkcamE0EJJqx"
   },
   "source": [
    "# Preparing basic knowledge for Classification\n",
    "\n",
    "The code below is using Python with the Pandas and Scikit-learn libraries to create a word matrix from a list of strings."
   ]
  },
  {
   "cell_type": "code",
   "execution_count": 1,
   "metadata": {
    "colab": {
     "base_uri": "https://localhost:8080/",
     "height": 174
    },
    "id": "k9RYH5vPJCil",
    "outputId": "722a3e5f-d879-46a6-b7b2-b6ee1752509a"
   },
   "outputs": [
    {
     "data": {
      "text/html": [
       "<div>\n",
       "<style scoped>\n",
       "    .dataframe tbody tr th:only-of-type {\n",
       "        vertical-align: middle;\n",
       "    }\n",
       "\n",
       "    .dataframe tbody tr th {\n",
       "        vertical-align: top;\n",
       "    }\n",
       "\n",
       "    .dataframe thead th {\n",
       "        text-align: right;\n",
       "    }\n",
       "</style>\n",
       "<table border=\"1\" class=\"dataframe\">\n",
       "  <thead>\n",
       "    <tr style=\"text-align: right;\">\n",
       "      <th></th>\n",
       "      <th>autumn</th>\n",
       "      <th>birds</th>\n",
       "      <th>breeze</th>\n",
       "      <th>brightly</th>\n",
       "      <th>chirp</th>\n",
       "      <th>clear</th>\n",
       "      <th>early</th>\n",
       "      <th>gentle</th>\n",
       "      <th>leaves</th>\n",
       "      <th>meadow</th>\n",
       "      <th>morning</th>\n",
       "      <th>night</th>\n",
       "      <th>quiet</th>\n",
       "      <th>rustles</th>\n",
       "      <th>sets</th>\n",
       "      <th>sky</th>\n",
       "      <th>softly</th>\n",
       "      <th>stars</th>\n",
       "      <th>sun</th>\n",
       "      <th>twinkle</th>\n",
       "    </tr>\n",
       "  </thead>\n",
       "  <tbody>\n",
       "    <tr>\n",
       "      <th>Line 1</th>\n",
       "      <td>0</td>\n",
       "      <td>0</td>\n",
       "      <td>0</td>\n",
       "      <td>0</td>\n",
       "      <td>0</td>\n",
       "      <td>0</td>\n",
       "      <td>0</td>\n",
       "      <td>0</td>\n",
       "      <td>0</td>\n",
       "      <td>1</td>\n",
       "      <td>0</td>\n",
       "      <td>0</td>\n",
       "      <td>1</td>\n",
       "      <td>0</td>\n",
       "      <td>1</td>\n",
       "      <td>0</td>\n",
       "      <td>0</td>\n",
       "      <td>0</td>\n",
       "      <td>1</td>\n",
       "      <td>0</td>\n",
       "    </tr>\n",
       "    <tr>\n",
       "      <th>Line 2</th>\n",
       "      <td>0</td>\n",
       "      <td>1</td>\n",
       "      <td>0</td>\n",
       "      <td>0</td>\n",
       "      <td>1</td>\n",
       "      <td>0</td>\n",
       "      <td>1</td>\n",
       "      <td>0</td>\n",
       "      <td>0</td>\n",
       "      <td>0</td>\n",
       "      <td>1</td>\n",
       "      <td>0</td>\n",
       "      <td>0</td>\n",
       "      <td>0</td>\n",
       "      <td>0</td>\n",
       "      <td>0</td>\n",
       "      <td>1</td>\n",
       "      <td>0</td>\n",
       "      <td>0</td>\n",
       "      <td>0</td>\n",
       "    </tr>\n",
       "    <tr>\n",
       "      <th>Line 3</th>\n",
       "      <td>1</td>\n",
       "      <td>0</td>\n",
       "      <td>1</td>\n",
       "      <td>0</td>\n",
       "      <td>0</td>\n",
       "      <td>0</td>\n",
       "      <td>0</td>\n",
       "      <td>1</td>\n",
       "      <td>1</td>\n",
       "      <td>0</td>\n",
       "      <td>0</td>\n",
       "      <td>0</td>\n",
       "      <td>0</td>\n",
       "      <td>1</td>\n",
       "      <td>0</td>\n",
       "      <td>0</td>\n",
       "      <td>0</td>\n",
       "      <td>0</td>\n",
       "      <td>0</td>\n",
       "      <td>0</td>\n",
       "    </tr>\n",
       "    <tr>\n",
       "      <th>Line 4</th>\n",
       "      <td>0</td>\n",
       "      <td>0</td>\n",
       "      <td>0</td>\n",
       "      <td>1</td>\n",
       "      <td>0</td>\n",
       "      <td>1</td>\n",
       "      <td>0</td>\n",
       "      <td>0</td>\n",
       "      <td>0</td>\n",
       "      <td>0</td>\n",
       "      <td>0</td>\n",
       "      <td>1</td>\n",
       "      <td>0</td>\n",
       "      <td>0</td>\n",
       "      <td>0</td>\n",
       "      <td>1</td>\n",
       "      <td>0</td>\n",
       "      <td>1</td>\n",
       "      <td>0</td>\n",
       "      <td>1</td>\n",
       "    </tr>\n",
       "  </tbody>\n",
       "</table>\n",
       "</div>"
      ],
      "text/plain": [
       "        autumn  birds  breeze  brightly  chirp  clear  early  gentle  leaves  \\\n",
       "Line 1       0      0       0         0      0      0      0       0       0   \n",
       "Line 2       0      1       0         0      1      0      1       0       0   \n",
       "Line 3       1      0       1         0      0      0      0       1       1   \n",
       "Line 4       0      0       0         1      0      1      0       0       0   \n",
       "\n",
       "        meadow  morning  night  quiet  rustles  sets  sky  softly  stars  sun  \\\n",
       "Line 1       1        0      0      1        0     1    0       0      0    1   \n",
       "Line 2       0        1      0      0        0     0    0       1      0    0   \n",
       "Line 3       0        0      0      0        1     0    0       0      0    0   \n",
       "Line 4       0        0      1      0        0     0    1       0      1    0   \n",
       "\n",
       "        twinkle  \n",
       "Line 1        0  \n",
       "Line 2        0  \n",
       "Line 3        0  \n",
       "Line 4        1  "
      ]
     },
     "execution_count": 1,
     "metadata": {},
     "output_type": "execute_result"
    }
   ],
   "source": [
    "import pandas as pd\n",
    "from sklearn.feature_extraction.text import CountVectorizer\n",
    "\n",
    "# Define the text\n",
    "lines = [\n",
    "    'The sun sets over the quiet meadow.',\n",
    "    'Birds chirp softly in the early morning.',\n",
    "    'A gentle breeze rustles the autumn leaves.',\n",
    "    'Stars twinkle brightly in the clear night sky.'\n",
    "]\n",
    "\n",
    "# Creat the CountVectorizer instance, the stop_words parameter is set to \"english\"\n",
    "# to remove common English stop words like \"and\", \"the\", and \"a\"\n",
    "vectorizer = CountVectorizer(stop_words='english')\n",
    "\n",
    "# Convert the text to vectorizer\n",
    "word_matrix = vectorizer.fit_transform(lines)\n",
    "\n",
    "# The get_feature_names_out method is used to get the feature names \n",
    "# (i.e., the individual words) in the word matrix\n",
    "feature_names = vectorizer.get_feature_names_out()\n",
    "\n",
    "# The line_names list is created to store the names of each line in the original\n",
    "# list of strings\n",
    "line_names = [f'Line {(i + 1):d}' for i, _ in enumerate(word_matrix)]\n",
    "\n",
    "# A Pandas DataFrame is created using the word_matrix.toarray() method to convert \n",
    "# the sparse matrix to a dense array\n",
    "df = pd.DataFrame(data=word_matrix.toarray(), index=line_names,columns=feature_names)\n",
    "\n",
    "# The head() method is called on the resulting DataFrame to display the first few \n",
    "# rows of the matrix\n",
    "df.head()"
   ]
  },
  {
   "cell_type": "markdown",
   "metadata": {
    "id": "RhJtX0tfJpbH"
   },
   "source": [
    "# Exercise - Part 4.1 - Develop the text classification model for the traffic sentiment analysis"
   ]
  },
  {
   "cell_type": "markdown",
   "metadata": {
    "id": "Ak3x15ugDsFe"
   },
   "source": [
    "The following code is utilized for traffic sentiment analysis and employs the Pakistani Traffic Sentiment Analysis dataset as an illustrative example. This dataset comprises two columns: 'Text' and 'Sentiment.' The 'Text' column encompasses sentiments related to Pakistani traffic, encompassing both positive and negative reviews. The 'Sentiment' column is employed to categorize each sentiment, with positive reviews labeled as '0' and negative reviews as '1'.\n",
    "\n",
    "As discussed in the lecture, the sentiment analysis is modeled as a binary classification problem. The task will use the Logistic Regression as the classification model and guide you through the step-by-step process of the whole process of the model development for the traffic sentiment analysis.   "
   ]
  },
  {
   "cell_type": "markdown",
   "metadata": {
    "id": "ML9PdR8XDsFe"
   },
   "source": [
    "Load the dataset:"
   ]
  },
  {
   "cell_type": "code",
   "execution_count": 1,
   "metadata": {
    "colab": {
     "base_uri": "https://localhost:8080/",
     "height": 206
    },
    "id": "AfQiWf5WJd5_",
    "outputId": "88f5c4a1-639f-41f0-f6cf-be6309033e8a"
   },
   "outputs": [
    {
     "data": {
      "text/html": [
       "<div>\n",
       "<style scoped>\n",
       "    .dataframe tbody tr th:only-of-type {\n",
       "        vertical-align: middle;\n",
       "    }\n",
       "\n",
       "    .dataframe tbody tr th {\n",
       "        vertical-align: top;\n",
       "    }\n",
       "\n",
       "    .dataframe thead th {\n",
       "        text-align: right;\n",
       "    }\n",
       "</style>\n",
       "<table border=\"1\" class=\"dataframe\">\n",
       "  <thead>\n",
       "    <tr style=\"text-align: right;\">\n",
       "      <th></th>\n",
       "      <th>Text</th>\n",
       "      <th>Sentiment</th>\n",
       "    </tr>\n",
       "  </thead>\n",
       "  <tbody>\n",
       "    <tr>\n",
       "      <th>0</th>\n",
       "      <td>Adayala road is clear</td>\n",
       "      <td>0</td>\n",
       "    </tr>\n",
       "    <tr>\n",
       "      <th>1</th>\n",
       "      <td>Traffic jam from parbat rd to nazim-ud-din rd ...</td>\n",
       "      <td>1</td>\n",
       "    </tr>\n",
       "    <tr>\n",
       "      <th>2</th>\n",
       "      <td>Mandra is clear</td>\n",
       "      <td>0</td>\n",
       "    </tr>\n",
       "    <tr>\n",
       "      <th>3</th>\n",
       "      <td>Fort street is clear</td>\n",
       "      <td>0</td>\n",
       "    </tr>\n",
       "    <tr>\n",
       "      <th>4</th>\n",
       "      <td>Mashriq Hotel towards Fawara Chowk, City Sadda...</td>\n",
       "      <td>1</td>\n",
       "    </tr>\n",
       "  </tbody>\n",
       "</table>\n",
       "</div>"
      ],
      "text/plain": [
       "                                                Text  Sentiment\n",
       "0                              Adayala road is clear          0\n",
       "1  Traffic jam from parbat rd to nazim-ud-din rd ...          1\n",
       "2                                    Mandra is clear          0\n",
       "3                               Fort street is clear          0\n",
       "4  Mashriq Hotel towards Fawara Chowk, City Sadda...          1"
      ]
     },
     "execution_count": 1,
     "metadata": {},
     "output_type": "execute_result"
    }
   ],
   "source": [
    "import pandas as pd\n",
    "import os\n",
    "\n",
    "# The path of the dataset\n",
    "url = 'https://raw.githubusercontent.com/zhenliangma/Applied-AI-in-Transportation/master/Exercise_4_Text_classification/Pakistani%20Traffic%20sentiment%20Analysis.csv'\n",
    "\n",
    "# Load the data use the pandas\n",
    "df = pd.read_csv(url)\n",
    "\n",
    "# Display the data\n",
    "df.head()"
   ]
  },
  {
   "cell_type": "markdown",
   "metadata": {
    "id": "VF5ejzBqKwsC"
   },
   "source": [
    "Using the wordcloud to visualize the dataset\n",
    "\n"
   ]
  },
  {
   "cell_type": "code",
   "execution_count": 3,
   "metadata": {
    "colab": {
     "base_uri": "https://localhost:8080/",
     "height": 285
    },
    "id": "wBlEtHj87rcL",
    "outputId": "ec7a4058-9679-4ccb-c3fd-245333c45175"
   },
   "outputs": [
    {
     "ename": "ModuleNotFoundError",
     "evalue": "No module named 'wordcloud'",
     "output_type": "error",
     "traceback": [
      "\u001b[1;31m---------------------------------------------------------------------------\u001b[0m",
      "\u001b[1;31mModuleNotFoundError\u001b[0m                       Traceback (most recent call last)",
      "Cell \u001b[1;32mIn[3], line 1\u001b[0m\n\u001b[1;32m----> 1\u001b[0m \u001b[38;5;28;01mfrom\u001b[39;00m \u001b[38;5;21;01mwordcloud\u001b[39;00m \u001b[38;5;28;01mimport\u001b[39;00m WordCloud\n\u001b[0;32m      2\u001b[0m \u001b[38;5;28;01mimport\u001b[39;00m \u001b[38;5;21;01mmatplotlib\u001b[39;00m\u001b[38;5;21;01m.\u001b[39;00m\u001b[38;5;21;01mpyplot\u001b[39;00m \u001b[38;5;28;01mas\u001b[39;00m \u001b[38;5;21;01mplt\u001b[39;00m\n\u001b[0;32m      3\u001b[0m text \u001b[38;5;241m=\u001b[39m df[\u001b[38;5;124m'\u001b[39m\u001b[38;5;124mText\u001b[39m\u001b[38;5;124m'\u001b[39m]\u001b[38;5;241m.\u001b[39mvalues\n",
      "\u001b[1;31mModuleNotFoundError\u001b[0m: No module named 'wordcloud'"
     ]
    }
   ],
   "source": [
    "from wordcloud import WordCloud\n",
    "import matplotlib.pyplot as plt\n",
    "text = df['Text'].values\n",
    "\n",
    "wordcloud = WordCloud().generate(str(text))\n",
    "\n",
    "plt.imshow(wordcloud)\n",
    "plt.axis(\"off\")\n",
    "plt.show()"
   ]
  },
  {
   "cell_type": "markdown",
   "metadata": {
    "id": "QAQmaPfQvRxC"
   },
   "source": [
    "Print a brief summary of the dataset"
   ]
  },
  {
   "cell_type": "code",
   "execution_count": 4,
   "metadata": {
    "colab": {
     "base_uri": "https://localhost:8080/"
    },
    "id": "UBLWDMJOJ4l9",
    "outputId": "c281ae52-7135-4732-bd36-ce57d1d12b0f"
   },
   "outputs": [
    {
     "name": "stdout",
     "output_type": "stream",
     "text": [
      "<class 'pandas.core.frame.DataFrame'>\n",
      "RangeIndex: 2109 entries, 0 to 2108\n",
      "Data columns (total 2 columns):\n",
      " #   Column     Non-Null Count  Dtype \n",
      "---  ------     --------------  ----- \n",
      " 0   Text       2109 non-null   object\n",
      " 1   Sentiment  2109 non-null   int64 \n",
      "dtypes: int64(1), object(1)\n",
      "memory usage: 33.1+ KB\n"
     ]
    }
   ],
   "source": [
    "df.info()"
   ]
  },
  {
   "cell_type": "markdown",
   "metadata": {
    "id": "fIHH-6oqKI9_"
   },
   "source": [
    "Use the following statement to see how many instances there are of each class (0 for positive and 1 for negative):"
   ]
  },
  {
   "cell_type": "code",
   "execution_count": 5,
   "metadata": {
    "colab": {
     "base_uri": "https://localhost:8080/",
     "height": 174
    },
    "id": "fVHhb1Y9KCyt",
    "outputId": "9698f967-81d4-4dd7-998e-ef3e815f96d2"
   },
   "outputs": [
    {
     "data": {
      "text/html": [
       "<div>\n",
       "<style scoped>\n",
       "    .dataframe tbody tr th:only-of-type {\n",
       "        vertical-align: middle;\n",
       "    }\n",
       "\n",
       "    .dataframe tbody tr th {\n",
       "        vertical-align: top;\n",
       "    }\n",
       "\n",
       "    .dataframe thead tr th {\n",
       "        text-align: left;\n",
       "    }\n",
       "\n",
       "    .dataframe thead tr:last-of-type th {\n",
       "        text-align: right;\n",
       "    }\n",
       "</style>\n",
       "<table border=\"1\" class=\"dataframe\">\n",
       "  <thead>\n",
       "    <tr>\n",
       "      <th></th>\n",
       "      <th colspan=\"4\" halign=\"left\">Text</th>\n",
       "    </tr>\n",
       "    <tr>\n",
       "      <th></th>\n",
       "      <th>count</th>\n",
       "      <th>unique</th>\n",
       "      <th>top</th>\n",
       "      <th>freq</th>\n",
       "    </tr>\n",
       "    <tr>\n",
       "      <th>Sentiment</th>\n",
       "      <th></th>\n",
       "      <th></th>\n",
       "      <th></th>\n",
       "      <th></th>\n",
       "    </tr>\n",
       "  </thead>\n",
       "  <tbody>\n",
       "    <tr>\n",
       "      <th>0</th>\n",
       "      <td>1010</td>\n",
       "      <td>1008</td>\n",
       "      <td>Traffic open at shahrah e faisal</td>\n",
       "      <td>2</td>\n",
       "    </tr>\n",
       "    <tr>\n",
       "      <th>1</th>\n",
       "      <td>1099</td>\n",
       "      <td>1079</td>\n",
       "      <td>Road is closed for traffic at star gate toward...</td>\n",
       "      <td>3</td>\n",
       "    </tr>\n",
       "  </tbody>\n",
       "</table>\n",
       "</div>"
      ],
      "text/plain": [
       "           Text                                                               \n",
       "          count unique                                                top freq\n",
       "Sentiment                                                                     \n",
       "0          1010   1008                   Traffic open at shahrah e faisal    2\n",
       "1          1099   1079  Road is closed for traffic at star gate toward...    3"
      ]
     },
     "execution_count": 5,
     "metadata": {},
     "output_type": "execute_result"
    }
   ],
   "source": [
    "# Displaying the instances of each class\n",
    "df.groupby('Sentiment').describe()"
   ]
  },
  {
   "cell_type": "markdown",
   "metadata": {
    "id": "KUQBRRP6KT19"
   },
   "source": [
    "There is an even number of positive and negative samples, but in each case, the number of unique samples is less than the number of samples for that class. That means the dataset has duplicate rows, and duplicate rows could bias a machine learning model. Use the following statements to delete the duplicate rows and check for balance again:"
   ]
  },
  {
   "cell_type": "code",
   "execution_count": 2,
   "metadata": {
    "colab": {
     "base_uri": "https://localhost:8080/",
     "height": 174
    },
    "id": "HVbOJxjWKNOF",
    "outputId": "f278ae7d-623d-4075-a26b-093c16f51a46"
   },
   "outputs": [
    {
     "data": {
      "text/html": [
       "<div>\n",
       "<style scoped>\n",
       "    .dataframe tbody tr th:only-of-type {\n",
       "        vertical-align: middle;\n",
       "    }\n",
       "\n",
       "    .dataframe tbody tr th {\n",
       "        vertical-align: top;\n",
       "    }\n",
       "\n",
       "    .dataframe thead tr th {\n",
       "        text-align: left;\n",
       "    }\n",
       "\n",
       "    .dataframe thead tr:last-of-type th {\n",
       "        text-align: right;\n",
       "    }\n",
       "</style>\n",
       "<table border=\"1\" class=\"dataframe\">\n",
       "  <thead>\n",
       "    <tr>\n",
       "      <th></th>\n",
       "      <th colspan=\"4\" halign=\"left\">Text</th>\n",
       "    </tr>\n",
       "    <tr>\n",
       "      <th></th>\n",
       "      <th>count</th>\n",
       "      <th>unique</th>\n",
       "      <th>top</th>\n",
       "      <th>freq</th>\n",
       "    </tr>\n",
       "    <tr>\n",
       "      <th>Sentiment</th>\n",
       "      <th></th>\n",
       "      <th></th>\n",
       "      <th></th>\n",
       "      <th></th>\n",
       "    </tr>\n",
       "  </thead>\n",
       "  <tbody>\n",
       "    <tr>\n",
       "      <th>0</th>\n",
       "      <td>1008</td>\n",
       "      <td>1008</td>\n",
       "      <td>Adayala road is clear</td>\n",
       "      <td>1</td>\n",
       "    </tr>\n",
       "    <tr>\n",
       "      <th>1</th>\n",
       "      <td>1079</td>\n",
       "      <td>1079</td>\n",
       "      <td>Traffic jam from parbat rd to nazim-ud-din rd ...</td>\n",
       "      <td>1</td>\n",
       "    </tr>\n",
       "  </tbody>\n",
       "</table>\n",
       "</div>"
      ],
      "text/plain": [
       "           Text                                                               \n",
       "          count unique                                                top freq\n",
       "Sentiment                                                                     \n",
       "0          1008   1008                              Adayala road is clear    1\n",
       "1          1079   1079  Traffic jam from parbat rd to nazim-ud-din rd ...    1"
      ]
     },
     "execution_count": 2,
     "metadata": {},
     "output_type": "execute_result"
    }
   ],
   "source": [
    "# Delete the duplicate rows\n",
    "df = df.drop_duplicates()\n",
    "\n",
    "# Displaying the instances of each class\n",
    "df.groupby('Sentiment').describe()"
   ]
  },
  {
   "cell_type": "markdown",
   "metadata": {
    "id": "JzZoGbwfKbet"
   },
   "source": [
    "Now there are no duplicate rows, and the number of positive and negative samples is roughly equal.\n",
    "\n",
    "Next, use CountVectorizer to prepare and vectorize the text in the Text column:"
   ]
  },
  {
   "cell_type": "code",
   "execution_count": 3,
   "metadata": {
    "id": "Zs4JUPApKWBF"
   },
   "outputs": [],
   "source": [
    "# Convert the text to vectorizer\n",
    "x = df['Text']\n",
    "\n",
    "# Obtain the label\n",
    "y = df['Sentiment']"
   ]
  },
  {
   "cell_type": "markdown",
   "metadata": {
    "id": "87hPPRRFKq-O"
   },
   "source": [
    "Now split the dataset for training and testing. We’ll use a 80/20 split since there are almost 2,000 samples in total:"
   ]
  },
  {
   "cell_type": "code",
   "execution_count": 4,
   "metadata": {
    "id": "yiVsNkZzKeVO"
   },
   "outputs": [],
   "source": [
    "from sklearn.model_selection import train_test_split\n",
    "\n",
    "# Splite the train and test data\n",
    "x_train, x_test, y_train, y_test = train_test_split(x, y, test_size=0.2, random_state=0)"
   ]
  },
  {
   "cell_type": "code",
   "execution_count": 9,
   "metadata": {},
   "outputs": [],
   "source": [
    "from sklearn.feature_extraction.text import CountVectorizer\n",
    "\n",
    "# Create the CountVectorizer instance, the ngram_range represents the length range \n",
    "# of phrase segmentation,the stop_words parameter is set to \"english\" to remove \n",
    "# common English stop words like \"and\", \"the\", and \"a\", min_df is to serve as a \n",
    "# threshold to delete some words which have a frequency lower then min_df.\n",
    "vectorizer = CountVectorizer(ngram_range=(1, 2), stop_words='english', min_df=20)\n",
    "\n",
    "x_train_vectorized = vectorizer.fit_transform(x_train)\n",
    "x_test_vectorized = vectorizer.transform(x_test)"
   ]
  },
  {
   "cell_type": "markdown",
   "metadata": {
    "id": "9psADrv9Kx50"
   },
   "source": [
    "The next step is to train a classifier. We’ll use Scikit’s LogisticRegression class, which uses logistic regression to fit a model to the data:"
   ]
  },
  {
   "cell_type": "code",
   "execution_count": 10,
   "metadata": {
    "colab": {
     "base_uri": "https://localhost:8080/",
     "height": 74
    },
    "id": "qDXGS3S4KvAc",
    "outputId": "8f3d2c3e-4358-471a-af52-1afd670990f3"
   },
   "outputs": [
    {
     "data": {
      "text/html": [
       "<style>#sk-container-id-1 {\n",
       "  /* Definition of color scheme common for light and dark mode */\n",
       "  --sklearn-color-text: black;\n",
       "  --sklearn-color-line: gray;\n",
       "  /* Definition of color scheme for unfitted estimators */\n",
       "  --sklearn-color-unfitted-level-0: #fff5e6;\n",
       "  --sklearn-color-unfitted-level-1: #f6e4d2;\n",
       "  --sklearn-color-unfitted-level-2: #ffe0b3;\n",
       "  --sklearn-color-unfitted-level-3: chocolate;\n",
       "  /* Definition of color scheme for fitted estimators */\n",
       "  --sklearn-color-fitted-level-0: #f0f8ff;\n",
       "  --sklearn-color-fitted-level-1: #d4ebff;\n",
       "  --sklearn-color-fitted-level-2: #b3dbfd;\n",
       "  --sklearn-color-fitted-level-3: cornflowerblue;\n",
       "\n",
       "  /* Specific color for light theme */\n",
       "  --sklearn-color-text-on-default-background: var(--sg-text-color, var(--theme-code-foreground, var(--jp-content-font-color1, black)));\n",
       "  --sklearn-color-background: var(--sg-background-color, var(--theme-background, var(--jp-layout-color0, white)));\n",
       "  --sklearn-color-border-box: var(--sg-text-color, var(--theme-code-foreground, var(--jp-content-font-color1, black)));\n",
       "  --sklearn-color-icon: #696969;\n",
       "\n",
       "  @media (prefers-color-scheme: dark) {\n",
       "    /* Redefinition of color scheme for dark theme */\n",
       "    --sklearn-color-text-on-default-background: var(--sg-text-color, var(--theme-code-foreground, var(--jp-content-font-color1, white)));\n",
       "    --sklearn-color-background: var(--sg-background-color, var(--theme-background, var(--jp-layout-color0, #111)));\n",
       "    --sklearn-color-border-box: var(--sg-text-color, var(--theme-code-foreground, var(--jp-content-font-color1, white)));\n",
       "    --sklearn-color-icon: #878787;\n",
       "  }\n",
       "}\n",
       "\n",
       "#sk-container-id-1 {\n",
       "  color: var(--sklearn-color-text);\n",
       "}\n",
       "\n",
       "#sk-container-id-1 pre {\n",
       "  padding: 0;\n",
       "}\n",
       "\n",
       "#sk-container-id-1 input.sk-hidden--visually {\n",
       "  border: 0;\n",
       "  clip: rect(1px 1px 1px 1px);\n",
       "  clip: rect(1px, 1px, 1px, 1px);\n",
       "  height: 1px;\n",
       "  margin: -1px;\n",
       "  overflow: hidden;\n",
       "  padding: 0;\n",
       "  position: absolute;\n",
       "  width: 1px;\n",
       "}\n",
       "\n",
       "#sk-container-id-1 div.sk-dashed-wrapped {\n",
       "  border: 1px dashed var(--sklearn-color-line);\n",
       "  margin: 0 0.4em 0.5em 0.4em;\n",
       "  box-sizing: border-box;\n",
       "  padding-bottom: 0.4em;\n",
       "  background-color: var(--sklearn-color-background);\n",
       "}\n",
       "\n",
       "#sk-container-id-1 div.sk-container {\n",
       "  /* jupyter's `normalize.less` sets `[hidden] { display: none; }`\n",
       "     but bootstrap.min.css set `[hidden] { display: none !important; }`\n",
       "     so we also need the `!important` here to be able to override the\n",
       "     default hidden behavior on the sphinx rendered scikit-learn.org.\n",
       "     See: https://github.com/scikit-learn/scikit-learn/issues/21755 */\n",
       "  display: inline-block !important;\n",
       "  position: relative;\n",
       "}\n",
       "\n",
       "#sk-container-id-1 div.sk-text-repr-fallback {\n",
       "  display: none;\n",
       "}\n",
       "\n",
       "div.sk-parallel-item,\n",
       "div.sk-serial,\n",
       "div.sk-item {\n",
       "  /* draw centered vertical line to link estimators */\n",
       "  background-image: linear-gradient(var(--sklearn-color-text-on-default-background), var(--sklearn-color-text-on-default-background));\n",
       "  background-size: 2px 100%;\n",
       "  background-repeat: no-repeat;\n",
       "  background-position: center center;\n",
       "}\n",
       "\n",
       "/* Parallel-specific style estimator block */\n",
       "\n",
       "#sk-container-id-1 div.sk-parallel-item::after {\n",
       "  content: \"\";\n",
       "  width: 100%;\n",
       "  border-bottom: 2px solid var(--sklearn-color-text-on-default-background);\n",
       "  flex-grow: 1;\n",
       "}\n",
       "\n",
       "#sk-container-id-1 div.sk-parallel {\n",
       "  display: flex;\n",
       "  align-items: stretch;\n",
       "  justify-content: center;\n",
       "  background-color: var(--sklearn-color-background);\n",
       "  position: relative;\n",
       "}\n",
       "\n",
       "#sk-container-id-1 div.sk-parallel-item {\n",
       "  display: flex;\n",
       "  flex-direction: column;\n",
       "}\n",
       "\n",
       "#sk-container-id-1 div.sk-parallel-item:first-child::after {\n",
       "  align-self: flex-end;\n",
       "  width: 50%;\n",
       "}\n",
       "\n",
       "#sk-container-id-1 div.sk-parallel-item:last-child::after {\n",
       "  align-self: flex-start;\n",
       "  width: 50%;\n",
       "}\n",
       "\n",
       "#sk-container-id-1 div.sk-parallel-item:only-child::after {\n",
       "  width: 0;\n",
       "}\n",
       "\n",
       "/* Serial-specific style estimator block */\n",
       "\n",
       "#sk-container-id-1 div.sk-serial {\n",
       "  display: flex;\n",
       "  flex-direction: column;\n",
       "  align-items: center;\n",
       "  background-color: var(--sklearn-color-background);\n",
       "  padding-right: 1em;\n",
       "  padding-left: 1em;\n",
       "}\n",
       "\n",
       "\n",
       "/* Toggleable style: style used for estimator/Pipeline/ColumnTransformer box that is\n",
       "clickable and can be expanded/collapsed.\n",
       "- Pipeline and ColumnTransformer use this feature and define the default style\n",
       "- Estimators will overwrite some part of the style using the `sk-estimator` class\n",
       "*/\n",
       "\n",
       "/* Pipeline and ColumnTransformer style (default) */\n",
       "\n",
       "#sk-container-id-1 div.sk-toggleable {\n",
       "  /* Default theme specific background. It is overwritten whether we have a\n",
       "  specific estimator or a Pipeline/ColumnTransformer */\n",
       "  background-color: var(--sklearn-color-background);\n",
       "}\n",
       "\n",
       "/* Toggleable label */\n",
       "#sk-container-id-1 label.sk-toggleable__label {\n",
       "  cursor: pointer;\n",
       "  display: block;\n",
       "  width: 100%;\n",
       "  margin-bottom: 0;\n",
       "  padding: 0.5em;\n",
       "  box-sizing: border-box;\n",
       "  text-align: center;\n",
       "}\n",
       "\n",
       "#sk-container-id-1 label.sk-toggleable__label-arrow:before {\n",
       "  /* Arrow on the left of the label */\n",
       "  content: \"▸\";\n",
       "  float: left;\n",
       "  margin-right: 0.25em;\n",
       "  color: var(--sklearn-color-icon);\n",
       "}\n",
       "\n",
       "#sk-container-id-1 label.sk-toggleable__label-arrow:hover:before {\n",
       "  color: var(--sklearn-color-text);\n",
       "}\n",
       "\n",
       "/* Toggleable content - dropdown */\n",
       "\n",
       "#sk-container-id-1 div.sk-toggleable__content {\n",
       "  max-height: 0;\n",
       "  max-width: 0;\n",
       "  overflow: hidden;\n",
       "  text-align: left;\n",
       "  /* unfitted */\n",
       "  background-color: var(--sklearn-color-unfitted-level-0);\n",
       "}\n",
       "\n",
       "#sk-container-id-1 div.sk-toggleable__content.fitted {\n",
       "  /* fitted */\n",
       "  background-color: var(--sklearn-color-fitted-level-0);\n",
       "}\n",
       "\n",
       "#sk-container-id-1 div.sk-toggleable__content pre {\n",
       "  margin: 0.2em;\n",
       "  border-radius: 0.25em;\n",
       "  color: var(--sklearn-color-text);\n",
       "  /* unfitted */\n",
       "  background-color: var(--sklearn-color-unfitted-level-0);\n",
       "}\n",
       "\n",
       "#sk-container-id-1 div.sk-toggleable__content.fitted pre {\n",
       "  /* unfitted */\n",
       "  background-color: var(--sklearn-color-fitted-level-0);\n",
       "}\n",
       "\n",
       "#sk-container-id-1 input.sk-toggleable__control:checked~div.sk-toggleable__content {\n",
       "  /* Expand drop-down */\n",
       "  max-height: 200px;\n",
       "  max-width: 100%;\n",
       "  overflow: auto;\n",
       "}\n",
       "\n",
       "#sk-container-id-1 input.sk-toggleable__control:checked~label.sk-toggleable__label-arrow:before {\n",
       "  content: \"▾\";\n",
       "}\n",
       "\n",
       "/* Pipeline/ColumnTransformer-specific style */\n",
       "\n",
       "#sk-container-id-1 div.sk-label input.sk-toggleable__control:checked~label.sk-toggleable__label {\n",
       "  color: var(--sklearn-color-text);\n",
       "  background-color: var(--sklearn-color-unfitted-level-2);\n",
       "}\n",
       "\n",
       "#sk-container-id-1 div.sk-label.fitted input.sk-toggleable__control:checked~label.sk-toggleable__label {\n",
       "  background-color: var(--sklearn-color-fitted-level-2);\n",
       "}\n",
       "\n",
       "/* Estimator-specific style */\n",
       "\n",
       "/* Colorize estimator box */\n",
       "#sk-container-id-1 div.sk-estimator input.sk-toggleable__control:checked~label.sk-toggleable__label {\n",
       "  /* unfitted */\n",
       "  background-color: var(--sklearn-color-unfitted-level-2);\n",
       "}\n",
       "\n",
       "#sk-container-id-1 div.sk-estimator.fitted input.sk-toggleable__control:checked~label.sk-toggleable__label {\n",
       "  /* fitted */\n",
       "  background-color: var(--sklearn-color-fitted-level-2);\n",
       "}\n",
       "\n",
       "#sk-container-id-1 div.sk-label label.sk-toggleable__label,\n",
       "#sk-container-id-1 div.sk-label label {\n",
       "  /* The background is the default theme color */\n",
       "  color: var(--sklearn-color-text-on-default-background);\n",
       "}\n",
       "\n",
       "/* On hover, darken the color of the background */\n",
       "#sk-container-id-1 div.sk-label:hover label.sk-toggleable__label {\n",
       "  color: var(--sklearn-color-text);\n",
       "  background-color: var(--sklearn-color-unfitted-level-2);\n",
       "}\n",
       "\n",
       "/* Label box, darken color on hover, fitted */\n",
       "#sk-container-id-1 div.sk-label.fitted:hover label.sk-toggleable__label.fitted {\n",
       "  color: var(--sklearn-color-text);\n",
       "  background-color: var(--sklearn-color-fitted-level-2);\n",
       "}\n",
       "\n",
       "/* Estimator label */\n",
       "\n",
       "#sk-container-id-1 div.sk-label label {\n",
       "  font-family: monospace;\n",
       "  font-weight: bold;\n",
       "  display: inline-block;\n",
       "  line-height: 1.2em;\n",
       "}\n",
       "\n",
       "#sk-container-id-1 div.sk-label-container {\n",
       "  text-align: center;\n",
       "}\n",
       "\n",
       "/* Estimator-specific */\n",
       "#sk-container-id-1 div.sk-estimator {\n",
       "  font-family: monospace;\n",
       "  border: 1px dotted var(--sklearn-color-border-box);\n",
       "  border-radius: 0.25em;\n",
       "  box-sizing: border-box;\n",
       "  margin-bottom: 0.5em;\n",
       "  /* unfitted */\n",
       "  background-color: var(--sklearn-color-unfitted-level-0);\n",
       "}\n",
       "\n",
       "#sk-container-id-1 div.sk-estimator.fitted {\n",
       "  /* fitted */\n",
       "  background-color: var(--sklearn-color-fitted-level-0);\n",
       "}\n",
       "\n",
       "/* on hover */\n",
       "#sk-container-id-1 div.sk-estimator:hover {\n",
       "  /* unfitted */\n",
       "  background-color: var(--sklearn-color-unfitted-level-2);\n",
       "}\n",
       "\n",
       "#sk-container-id-1 div.sk-estimator.fitted:hover {\n",
       "  /* fitted */\n",
       "  background-color: var(--sklearn-color-fitted-level-2);\n",
       "}\n",
       "\n",
       "/* Specification for estimator info (e.g. \"i\" and \"?\") */\n",
       "\n",
       "/* Common style for \"i\" and \"?\" */\n",
       "\n",
       ".sk-estimator-doc-link,\n",
       "a:link.sk-estimator-doc-link,\n",
       "a:visited.sk-estimator-doc-link {\n",
       "  float: right;\n",
       "  font-size: smaller;\n",
       "  line-height: 1em;\n",
       "  font-family: monospace;\n",
       "  background-color: var(--sklearn-color-background);\n",
       "  border-radius: 1em;\n",
       "  height: 1em;\n",
       "  width: 1em;\n",
       "  text-decoration: none !important;\n",
       "  margin-left: 1ex;\n",
       "  /* unfitted */\n",
       "  border: var(--sklearn-color-unfitted-level-1) 1pt solid;\n",
       "  color: var(--sklearn-color-unfitted-level-1);\n",
       "}\n",
       "\n",
       ".sk-estimator-doc-link.fitted,\n",
       "a:link.sk-estimator-doc-link.fitted,\n",
       "a:visited.sk-estimator-doc-link.fitted {\n",
       "  /* fitted */\n",
       "  border: var(--sklearn-color-fitted-level-1) 1pt solid;\n",
       "  color: var(--sklearn-color-fitted-level-1);\n",
       "}\n",
       "\n",
       "/* On hover */\n",
       "div.sk-estimator:hover .sk-estimator-doc-link:hover,\n",
       ".sk-estimator-doc-link:hover,\n",
       "div.sk-label-container:hover .sk-estimator-doc-link:hover,\n",
       ".sk-estimator-doc-link:hover {\n",
       "  /* unfitted */\n",
       "  background-color: var(--sklearn-color-unfitted-level-3);\n",
       "  color: var(--sklearn-color-background);\n",
       "  text-decoration: none;\n",
       "}\n",
       "\n",
       "div.sk-estimator.fitted:hover .sk-estimator-doc-link.fitted:hover,\n",
       ".sk-estimator-doc-link.fitted:hover,\n",
       "div.sk-label-container:hover .sk-estimator-doc-link.fitted:hover,\n",
       ".sk-estimator-doc-link.fitted:hover {\n",
       "  /* fitted */\n",
       "  background-color: var(--sklearn-color-fitted-level-3);\n",
       "  color: var(--sklearn-color-background);\n",
       "  text-decoration: none;\n",
       "}\n",
       "\n",
       "/* Span, style for the box shown on hovering the info icon */\n",
       ".sk-estimator-doc-link span {\n",
       "  display: none;\n",
       "  z-index: 9999;\n",
       "  position: relative;\n",
       "  font-weight: normal;\n",
       "  right: .2ex;\n",
       "  padding: .5ex;\n",
       "  margin: .5ex;\n",
       "  width: min-content;\n",
       "  min-width: 20ex;\n",
       "  max-width: 50ex;\n",
       "  color: var(--sklearn-color-text);\n",
       "  box-shadow: 2pt 2pt 4pt #999;\n",
       "  /* unfitted */\n",
       "  background: var(--sklearn-color-unfitted-level-0);\n",
       "  border: .5pt solid var(--sklearn-color-unfitted-level-3);\n",
       "}\n",
       "\n",
       ".sk-estimator-doc-link.fitted span {\n",
       "  /* fitted */\n",
       "  background: var(--sklearn-color-fitted-level-0);\n",
       "  border: var(--sklearn-color-fitted-level-3);\n",
       "}\n",
       "\n",
       ".sk-estimator-doc-link:hover span {\n",
       "  display: block;\n",
       "}\n",
       "\n",
       "/* \"?\"-specific style due to the `<a>` HTML tag */\n",
       "\n",
       "#sk-container-id-1 a.estimator_doc_link {\n",
       "  float: right;\n",
       "  font-size: 1rem;\n",
       "  line-height: 1em;\n",
       "  font-family: monospace;\n",
       "  background-color: var(--sklearn-color-background);\n",
       "  border-radius: 1rem;\n",
       "  height: 1rem;\n",
       "  width: 1rem;\n",
       "  text-decoration: none;\n",
       "  /* unfitted */\n",
       "  color: var(--sklearn-color-unfitted-level-1);\n",
       "  border: var(--sklearn-color-unfitted-level-1) 1pt solid;\n",
       "}\n",
       "\n",
       "#sk-container-id-1 a.estimator_doc_link.fitted {\n",
       "  /* fitted */\n",
       "  border: var(--sklearn-color-fitted-level-1) 1pt solid;\n",
       "  color: var(--sklearn-color-fitted-level-1);\n",
       "}\n",
       "\n",
       "/* On hover */\n",
       "#sk-container-id-1 a.estimator_doc_link:hover {\n",
       "  /* unfitted */\n",
       "  background-color: var(--sklearn-color-unfitted-level-3);\n",
       "  color: var(--sklearn-color-background);\n",
       "  text-decoration: none;\n",
       "}\n",
       "\n",
       "#sk-container-id-1 a.estimator_doc_link.fitted:hover {\n",
       "  /* fitted */\n",
       "  background-color: var(--sklearn-color-fitted-level-3);\n",
       "}\n",
       "</style><div id=\"sk-container-id-1\" class=\"sk-top-container\"><div class=\"sk-text-repr-fallback\"><pre>LogisticRegression(max_iter=1000, random_state=0)</pre><b>In a Jupyter environment, please rerun this cell to show the HTML representation or trust the notebook. <br />On GitHub, the HTML representation is unable to render, please try loading this page with nbviewer.org.</b></div><div class=\"sk-container\" hidden><div class=\"sk-item\"><div class=\"sk-estimator fitted sk-toggleable\"><input class=\"sk-toggleable__control sk-hidden--visually\" id=\"sk-estimator-id-1\" type=\"checkbox\" checked><label for=\"sk-estimator-id-1\" class=\"sk-toggleable__label fitted sk-toggleable__label-arrow fitted\">&nbsp;&nbsp;LogisticRegression<a class=\"sk-estimator-doc-link fitted\" rel=\"noreferrer\" target=\"_blank\" href=\"https://scikit-learn.org/1.5/modules/generated/sklearn.linear_model.LogisticRegression.html\">?<span>Documentation for LogisticRegression</span></a><span class=\"sk-estimator-doc-link fitted\">i<span>Fitted</span></span></label><div class=\"sk-toggleable__content fitted\"><pre>LogisticRegression(max_iter=1000, random_state=0)</pre></div> </div></div></div></div>"
      ],
      "text/plain": [
       "LogisticRegression(max_iter=1000, random_state=0)"
      ]
     },
     "execution_count": 10,
     "metadata": {},
     "output_type": "execute_result"
    }
   ],
   "source": [
    "from sklearn.linear_model import LogisticRegression\n",
    "\n",
    "# Creat the model, max_iter controls the maximum number of iterations, \n",
    "# random_state provides a seed for the random number generator\n",
    "model = LogisticRegression(max_iter=1000, random_state=0)\n",
    "\n",
    "# Trains the logistic regression model using the training data.\n",
    "model.fit(x_train_vectorized, y_train)"
   ]
  },
  {
   "cell_type": "markdown",
   "metadata": {
    "id": "GLxnBB6eK4yc"
   },
   "source": [
    "Validate the trained model with the 20% of the dataset set aside for testing and show the results in a confusion matrix and accuracy:"
   ]
  },
  {
   "cell_type": "code",
   "execution_count": 11,
   "metadata": {
    "colab": {
     "base_uri": "https://localhost:8080/",
     "height": 467
    },
    "id": "6bQNI1UYKz30",
    "outputId": "0403d2f7-725e-4729-a025-6923521d9340"
   },
   "outputs": [
    {
     "name": "stdout",
     "output_type": "stream",
     "text": [
      "The accuracy of the model is: 0.937799043062201\n"
     ]
    },
    {
     "data": {
      "image/png": "[encoded data removed]",
      "text/plain": [
       "<Figure size 640x480 with 2 Axes>"
      ]
     },
     "metadata": {},
     "output_type": "display_data"
    }
   ],
   "source": [
    "%matplotlib inline\n",
    "from sklearn.metrics import ConfusionMatrixDisplay as cmd\n",
    "from sklearn.metrics import accuracy_score\n",
    "\n",
    "# Show the results in a confusion matrix\n",
    "cmd.from_estimator(model, x_test_vectorized, y_test, display_labels=['Positive','Negative'], cmap='Blues')\n",
    "\n",
    "# Calculate accuracy\n",
    "print('The accuracy of the model is: ' + str(accuracy_score(y_test, model.predict(x_test_vectorized))))"
   ]
  },
  {
   "cell_type": "markdown",
   "metadata": {
    "id": "XqabobUiLA0c"
   },
   "source": [
    "***Activity during the break: Let’s fool the model***\n",
    "\n",
    "Analyzing text for sentiment. Use the following statements to produce a sentiment score and classification for the sentence “Adayala road is clear”.\n",
    "\n",
    "you can phrase some your own reviews (e.g., suppose you want make a post on social media, what you would write about your own experience on traffic or public transport travels in your city).\n",
    "\n",
    "you can also try to fool the model and compare the results with ChatGPT."
   ]
  },
  {
   "cell_type": "code",
   "execution_count": 12,
   "metadata": {
    "colab": {
     "base_uri": "https://localhost:8080/"
    },
    "id": "BP05rIBhK7_d",
    "outputId": "73d67a26-741c-469b-b987-330a78ce857d"
   },
   "outputs": [
    {
     "name": "stdout",
     "output_type": "stream",
     "text": [
      "The prediction result of this review is: positive\n"
     ]
    }
   ],
   "source": [
    "# Here you change the reviews\n",
    "text = 'Adayala road is clear'\n",
    "\n",
    "# Make a prediction for this review\n",
    "score=model.predict_proba(vectorizer.transform([text]))[0][1]\n",
    "\n",
    "if score > 0.5:\n",
    "  attitude='negative'\n",
    "else:\n",
    "  attitude='positive'\n",
    "\n",
    "print('The prediction result of this review is: '+ attitude)"
   ]
  },
  {
   "cell_type": "markdown",
   "metadata": {
    "id": "qxzZxDEHLFis"
   },
   "source": [
    "# Exercise - Part 4.2 - Explore the performance of different text vectorization methods"
   ]
  },
  {
   "cell_type": "markdown",
   "metadata": {
    "id": "ZX8kyPqfDsFh"
   },
   "source": [
    "The task will explore the impact of text vectorization methods on traffic sentiment analysis performance. You are expected to explore three different text vectorization models: CountVectorizer, HashingVectorizer, and TfidfVectorizer.  "
   ]
  },
  {
   "cell_type": "code",
   "execution_count": 15,
   "metadata": {
    "colab": {
     "base_uri": "https://localhost:8080/",
     "height": 516
    },
    "id": "Wki8RaErDsFh",
    "outputId": "68423a0c-8782-48f7-e355-e947c1ea0d24"
   },
   "outputs": [
    {
     "name": "stdout",
     "output_type": "stream",
     "text": [
      "The accuracy of the model is: 0.9545454545454546\n"
     ]
    },
    {
     "data": {
      "image/png": "[encoded data removed]",
      "text/plain": [
       "<Figure size 640x480 with 2 Axes>"
      ]
     },
     "metadata": {},
     "output_type": "display_data"
    }
   ],
   "source": [
    "import pandas as pd\n",
    "from sklearn.feature_extraction.text import CountVectorizer\n",
    "from sklearn.feature_extraction.text import TfidfVectorizer\n",
    "from sklearn.feature_extraction.text import HashingVectorizer\n",
    "from sklearn.linear_model import LogisticRegression\n",
    "from sklearn.model_selection import train_test_split\n",
    "%matplotlib inline\n",
    "from sklearn.metrics import ConfusionMatrixDisplay as cmd\n",
    "import os\n",
    "\n",
    "# here you can try use different vectorization methods (Attention! uncomment the\n",
    "# method you want to test, and comment out the other methods)\n",
    "#-*-*-*-*-*-*chose different vectorization-*-*-*-*-*-*\n",
    "\n",
    "#(1) CountVectorizer\n",
    "# vectorizer = CountVectorizer(ngram_range=(1, 2), stop_words='english', min_df=20)\n",
    "\n",
    "#(2) #HashingVectorizer\n",
    "# vectorizer = HashingVectorizer(ngram_range=(1, 2), n_features=200)\n",
    "\n",
    "#(3)TfidfVectorizer\n",
    "vectorizer = TfidfVectorizer(\n",
    "    min_df=20,\n",
    "    norm='l2',\n",
    "    smooth_idf=True,\n",
    "    use_idf=True,\n",
    "    ngram_range=(1, 2),\n",
    "    stop_words='english'\n",
    "    )\n",
    "\n",
    "#-*-*-*-*-*-*chose different vectorization-*-*-*-*-*-*\n",
    "x = df['Text']\n",
    "y = df['Sentiment']\n",
    "x_train, x_test, y_train, y_test = train_test_split(x, y, test_size=0.2, random_state=0)\n",
    "\n",
    "# apply the vectorizers\n",
    "x_train_vectorized = vectorizer.fit_transform(x_train)\n",
    "x_test_vectorized = vectorizer.transform(x_test)\n",
    "\n",
    "model = LogisticRegression(max_iter=1000, random_state=0)\n",
    "model.fit(x_train_vectorized, y_train)\n",
    "cmd.from_estimator(\n",
    "    model, \n",
    "    x_test_vectorized, \n",
    "    y_test, \n",
    "    display_labels=['Positive','Negative'], \n",
    "    cmap='Blues', \n",
    "    xticks_rotation='vertical'\n",
    "    )\n",
    "\n",
    "#calculate accuracy\n",
    "print('The accuracy of the model is: '+str(accuracy_score(y_test,model.predict(x_test_vectorized))))"
   ]
  },
  {
   "cell_type": "markdown",
   "metadata": {
    "id": "fts675OXDsFh"
   },
   "source": [
    "# Exercise - part 4.3-Explore the performance of different text classification models"
   ]
  },
  {
   "cell_type": "markdown",
   "metadata": {
    "id": "avHzedDFDsFh"
   },
   "source": [
    "The task will explore the performance of different models in traffic sentiment analysis. You are expected to explore different text classification methods, including LR, KNN, RF, XGBoost, etc.  "
   ]
  },
  {
   "cell_type": "code",
   "execution_count": 10,
   "metadata": {
    "colab": {
     "base_uri": "https://localhost:8080/",
     "height": 516
    },
    "id": "q8SwgWSyDsFh",
    "outputId": "3da1f2af-7f70-4c80-baa5-e15f385cb0ff"
   },
   "outputs": [
    {
     "name": "stdout",
     "output_type": "stream",
     "text": [
      "The accuracy of the model is: 0.9545454545454546\n"
     ]
    },
    {
     "data": {
      "image/png": "[encoded data removed]",
      "text/plain": [
       "<Figure size 640x480 with 2 Axes>"
      ]
     },
     "metadata": {},
     "output_type": "display_data"
    }
   ],
   "source": [
    "import pandas as pd\n",
    "from sklearn.feature_extraction.text import CountVectorizer\n",
    "from sklearn.feature_extraction.text import TfidfVectorizer\n",
    "from sklearn.linear_model import LogisticRegression\n",
    "from sklearn.model_selection import train_test_split\n",
    "%matplotlib inline\n",
    "from sklearn.metrics import ConfusionMatrixDisplay as cmd\n",
    "from sklearn.neighbors import KNeighborsClassifier\n",
    "from sklearn.ensemble import RandomForestClassifier\n",
    "from xgboost import XGBClassifier\n",
    "from sklearn.svm import SVC\n",
    "from sklearn.naive_bayes import BernoulliNB\n",
    "import os\n",
    "\n",
    "vectorizer = TfidfVectorizer(\n",
    "    min_df=20,\n",
    "    norm='l2',\n",
    "    smooth_idf=True,\n",
    "    use_idf=True,\n",
    "    ngram_range=(1, 1),\n",
    "    stop_words='english'\n",
    "    )\n",
    "\n",
    "# split into train/test set\n",
    "x = df['Text']\n",
    "y = df['Sentiment']\n",
    "x_train, x_test, y_train, y_test = train_test_split(x, y, test_size=0.2, random_state=0)\n",
    "\n",
    "# apply the vectorizers\n",
    "x_train_vectorized = vectorizer.fit_transform(x_train)\n",
    "x_test_vectorized = vectorizer.transform(x_test)\n",
    "\n",
    "# here you can try use different models (Attention! uncomment the method you want\n",
    "# to test, and comment out the other methods)\n",
    "\n",
    "\n",
    "#-*-*-*-*-*-*chose different models-*-*-*-*-*-*\n",
    "\n",
    "#(1)LR\n",
    "# model = LogisticRegression(max_iter=1000, random_state=0)\n",
    "\n",
    "#(2)KNN\n",
    "# model=KNeighborsClassifier()\n",
    "\n",
    "#(3)RF\n",
    "# model = RandomForestClassifier(random_state=0)\n",
    "\n",
    "#(4)XGBoost\n",
    "# model =  XGBClassifier()\n",
    "\n",
    "#(5)SVM\n",
    "# model= SVC(kernel=\"linear\")\n",
    "\n",
    "#(6)Naïve Bayes models\n",
    "# model=BernoulliNB()\n",
    "\n",
    "#-*-*-*-*-*-*chose different models-*-*-*-*-*-*\n",
    "model.fit(x_train_vectorized, y_train)\n",
    "cmd.from_estimator(\n",
    "    model, \n",
    "    x_test_vectorized, \n",
    "    y_test,\n",
    "    display_labels=['Positive','Negative'],\n",
    "    cmap='Blues', \n",
    "    xticks_rotation='vertical'\n",
    "    )\n",
    "\n",
    "#calculate accuracy\n",
    "print('The accuracy of the model is: '+str(accuracy_score(y_test,model.predict(x_test_vectorized))))"
   ]
  },
  {
   "cell_type": "markdown",
   "metadata": {
    "id": "QbJcT_mUDsFh"
   },
   "source": [
    "# Exercise - Assignment task-Find the best text classification model for the sentimental analysis (assignment submission)"
   ]
  },
  {
   "cell_type": "markdown",
   "metadata": {
    "id": "_jA0t3TsDsFh"
   },
   "source": [
    "The tasks for this part is use the grid search to: \n",
    "1. Identify which vectorization method works the best or basically not much difference. \n",
    "2. Identify which model, together with its corresponding hyperparameters, gives the best performance for traffic sentimental analysis.\n",
    "\n",
    "You can either use the structure below or be a be a bit more explorative and try out other strategies we have discussed in the lecture/exercises to find the best parameters/model (e.g., Random Search, ROC curve,...)."
   ]
  },
  {
   "cell_type": "code",
   "execution_count": 1,
   "metadata": {
    "colab": {
     "base_uri": "https://localhost:8080/",
     "height": 534
    },
    "id": "0KNzQrz7DsFh",
    "outputId": "005bf2d6-ab28-4ad6-ce41-900554c26b83"
   },
   "outputs": [
    {
     "name": "stdout",
     "output_type": "stream",
     "text": [
      "countVectoriser\n",
      "LR\n",
      "{'C': 1}\n",
      "The accuracy of the model is: 0.937799043062201\n",
      "\n",
      "KNN\n",
      "{'n_neighbors': 5, 'weights': 'uniform'}\n",
      "The accuracy of the model is: 0.9473684210526315\n",
      "\n",
      "RF\n",
      "{'max_depth': None, 'min_samples_leaf': 1, 'min_samples_split': 10, 'n_estimators': 200}\n",
      "The accuracy of the model is: 0.9641148325358851\n",
      "\n",
      "XGBoost\n",
      "{'learning_rate': 0.2, 'max_depth': 3, 'n_estimators': 300}\n",
      "The accuracy of the model is: 0.9593301435406698\n",
      "\n",
      "SVM\n",
      "{'C': 10, 'kernel': 'rbf'}\n",
      "The accuracy of the model is: 0.9569377990430622\n",
      "\n",
      "bayes\n",
      "{'alpha': 1, 'force_alpha': True}\n",
      "The accuracy of the model is: 0.9425837320574163\n",
      "\n",
      "HashingVectorizer\n",
      "LR\n",
      "{'C': 10}\n",
      "The accuracy of the model is: 0.9497607655502392\n",
      "\n",
      "KNN\n",
      "{'n_neighbors': 9, 'weights': 'uniform'}\n",
      "The accuracy of the model is: 0.9497607655502392\n",
      "\n",
      "RF\n",
      "{'max_depth': None, 'min_samples_leaf': 2, 'min_samples_split': 5, 'n_estimators': 300}\n",
      "The accuracy of the model is: 0.9712918660287081\n",
      "\n",
      "XGBoost\n",
      "{'learning_rate': 0.2, 'max_depth': 5, 'n_estimators': 300}\n",
      "The accuracy of the model is: 0.9712918660287081\n",
      "\n",
      "SVM\n",
      "{'C': 10, 'kernel': 'rbf'}\n",
      "The accuracy of the model is: 0.9712918660287081\n",
      "\n",
      "bayes\n",
      "{'alpha': 1, 'force_alpha': True}\n",
      "The accuracy of the model is: 0.8349282296650717\n",
      "\n",
      "TfidfVectorizer\n",
      "LR\n",
      "{'C': 0.1}\n",
      "The accuracy of the model is: 0.9545454545454546\n",
      "\n",
      "KNN\n",
      "{'n_neighbors': 5, 'weights': 'distance'}\n",
      "The accuracy of the model is: 0.9330143540669856\n",
      "\n",
      "RF\n",
      "{'max_depth': 30, 'min_samples_leaf': 1, 'min_samples_split': 5, 'n_estimators': 300}\n",
      "The accuracy of the model is: 0.9712918660287081\n",
      "\n",
      "XGBoost\n",
      "{'learning_rate': 0.1, 'max_depth': 3, 'n_estimators': 200}\n",
      "The accuracy of the model is: 0.9712918660287081\n",
      "\n",
      "SVM\n",
      "{'C': 0.1, 'kernel': 'rbf'}\n",
      "The accuracy of the model is: 0.9593301435406698\n",
      "\n",
      "bayes\n",
      "{'alpha': 1, 'force_alpha': True}\n",
      "The accuracy of the model is: 0.9401913875598086\n",
      "\n"
     ]
    }
   ],
   "source": [
    "import pandas as pd\n",
    "from sklearn.feature_extraction.text import CountVectorizer\n",
    "from sklearn.feature_extraction.text import HashingVectorizer\n",
    "from sklearn.feature_extraction.text import TfidfVectorizer\n",
    "from sklearn.linear_model import LogisticRegression\n",
    "from sklearn.model_selection import train_test_split\n",
    "%matplotlib inline\n",
    "from sklearn.metrics import ConfusionMatrixDisplay as cmd\n",
    "from sklearn.neighbors import KNeighborsClassifier\n",
    "from sklearn.ensemble import RandomForestClassifier\n",
    "from xgboost import XGBClassifier\n",
    "from sklearn.svm import SVC\n",
    "from sklearn.naive_bayes import BernoulliNB\n",
    "import os\n",
    "from sklearn.model_selection import GridSearchCV\n",
    "from sklearn.metrics import accuracy_score\n",
    "import pandas as pd\n",
    "import os\n",
    "\n",
    "# The path of the dataset\n",
    "url = 'https://raw.githubusercontent.com/zhenliangma/Applied-AI-in-Transportation/master/Exercise_4_Text_classification/Pakistani%20Traffic%20sentiment%20Analysis.csv'\n",
    "# Load the data use the pandas\n",
    "df = pd.read_csv(url)\n",
    "# Delete the duplicate rows\n",
    "df = df.drop_duplicates()\n",
    "\n",
    "# split into train/test set\n",
    "x = df['Text']\n",
    "y = df['Sentiment']\n",
    "x_train, x_test, y_train, y_test = train_test_split(x, y, test_size=0.2, random_state=0)\n",
    "\n",
    "#-*-*-*-*-*-*choose different vectorization-*-*-*-*-*-*\n",
    "\n",
    "#(1) CountVectorizer\n",
    "vectorizer1 = CountVectorizer(ngram_range=(1, 2), stop_words='english',min_df=20)\n",
    "\n",
    "#(2) #HashingVectorizer\n",
    "vectorizer2 = HashingVectorizer(ngram_range=(1, 2), n_features=200)\n",
    "\n",
    "#(3)TfidfVectorizer\n",
    "vectorizer3 = TfidfVectorizer(\n",
    "    min_df=20,\n",
    "    norm='l2',\n",
    "    smooth_idf=True,\n",
    "    use_idf=True,\n",
    "    ngram_range=(1, 1),\n",
    "    stop_words='english'\n",
    "    )\n",
    "\n",
    "#-*-*-*-*-*-*choose different models-*-*-*-*-*-*\n",
    "#-*-*-*-*-*-*-*-*-*-*-*-*-*-*-*-*-*-*\n",
    "#(1)LR\n",
    "model1 = LogisticRegression(max_iter=1000, random_state=0)\n",
    "param_grid1 = {\n",
    "    'C': [0.001, 0.01, 0.1, 1, 10, 100],\n",
    "}\n",
    "\n",
    "#(2)KNN\n",
    "model2=KNeighborsClassifier()\n",
    "param_grid2 = {\n",
    "    'n_neighbors': [3, 5, 7, 9],\n",
    "    'weights': ['uniform', 'distance']\n",
    "}\n",
    "\n",
    "#(3)RF\n",
    "model3 = RandomForestClassifier(random_state=0)\n",
    "param_grid3 = {\n",
    "    'n_estimators': [100, 200, 300],\n",
    "    'max_depth': [None, 10, 20, 30],\n",
    "    'min_samples_split': [2, 5, 10],\n",
    "    'min_samples_leaf': [1, 2, 4]\n",
    "}\n",
    "\n",
    "#(4)XGBoost\n",
    "model4 =  XGBClassifier()\n",
    "param_grid4 = {\n",
    "    'learning_rate': [0.01, 0.1, 0.2],\n",
    "    'n_estimators': [100, 200, 300],\n",
    "    'max_depth': [3, 4, 5]\n",
    "}\n",
    "\n",
    "\n",
    "#(5)SVM\n",
    "model5= SVC(probability=True)\n",
    "param_grid5 = {'kernel': ['linear', 'rbf', 'poly'],'C': [0.1, 1, 10]}\n",
    "\n",
    "#(6)Naïve Bayes models\n",
    "model6=BernoulliNB()\n",
    "param_grid6 = {'alpha': [0.1, 0.5, 1],'force_alpha': [True,False]}\n",
    "\n",
    "vectorizer_arr = [vectorizer1, vectorizer2, vectorizer3]\n",
    "vnames = ['countVectoriser', 'HashingVectorizer', 'TfidfVectorizer']\n",
    "model_arr = [model1, model2, model3, model4, model5, model6]\n",
    "mnames = ['LR', 'KNN', 'RF', 'XGBoost', 'SVM', 'bayes']\n",
    "param_arr = [param_grid1, param_grid2, param_grid3, param_grid4, param_grid5, param_grid6]\n",
    "\n",
    "for i in range(0,3):\n",
    "    \n",
    "    #-*-*-*-*-*-*chose different vectorization-*-*-*-*-*-*\n",
    "    # apply the vectorizers\n",
    "    print(vnames[i])\n",
    "    x_train_vectorized = vectorizer_arr[i].fit_transform(x_train)\n",
    "    x_test_vectorized = vectorizer_arr[i].transform(x_test)\n",
    "    \n",
    "    for j in range(0,6):\n",
    "\n",
    "        print(mnames[j])\n",
    "        #`grid_search` performs a grid search with 5-fold cross-validation and evaluates models based on accuracy.\n",
    "        grid_search = GridSearchCV(estimator=model_arr[j], param_grid=param_arr[j], cv=5, scoring='accuracy', n_jobs=-1)\n",
    "        \n",
    "        #`fit` method fits the model to the training data, systematically trying out all \n",
    "        # parameter combinations.\n",
    "        grid_search.fit(x_train_vectorized, y_train)\n",
    "        \n",
    "        #`best_params` and `best_score` store the best hyperparameters and their \n",
    "        # corresponding accuracy score.\n",
    "        best_params = grid_search.best_params_\n",
    "        print(best_params)\n",
    "        best_score = grid_search.best_score_\n",
    "        \n",
    "        #The `model` is updated with the best estimator found during the grid search, \n",
    "        # which can be used for further analysis.\n",
    "        model_arr[j] = grid_search.best_estimator_\n",
    "        \n",
    "        #-*-*-*-*-*-*-*-*-*-*-*-*-*-*-*-*-*-*\n",
    "        \n",
    "        # cmd.from_estimator(\n",
    "        #     model, \n",
    "        #     x_test_vectorized, \n",
    "        #     y_test,\n",
    "        #     display_labels=['Positive','Negative'],\n",
    "        #     cmap='Blues',\n",
    "        #     xticks_rotation='vertical'\n",
    "        #     )\n",
    "        \n",
    "        #calculate accuracy\n",
    "        print('The accuracy of the model is: ' + str(accuracy_score(y_test,model_arr[j].predict(x_test_vectorized))) + '\\n')"
   ]
  },
  {
   "cell_type": "code",
   "execution_count": 50,
   "metadata": {
    "colab": {
     "base_uri": "https://localhost:8080/"
    },
    "id": "IzrFFt8n4-hD",
    "outputId": "791bbc63-1d35-438d-e613-277829b7344d"
   },
   "outputs": [
    {
     "name": "stdout",
     "output_type": "stream",
     "text": [
      "The prediction result of this review is: positive\n"
     ]
    }
   ],
   "source": [
    "# Here you change the reviews\n",
    "text = 'Adayala road is clear'\n",
    "\n",
    "# Make a prediction for this review\n",
    "score=model.predict_proba(vectorizer.transform([text]))[0][1]\n",
    "\n",
    "if score >0.5:\n",
    "  attitude='negative'\n",
    "else:\n",
    "  attitude='positive'\n",
    "\n",
    "print('The prediction result of this review is: '+ attitude)"
   ]
  }
 ],
 "metadata": {
  "colab": {
   "provenance": []
  },
  "kernelspec": {
   "display_name": "Python 3 (ipykernel)",
   "language": "python",
   "name": "python3"
  },
  "language_info": {
   "codemirror_mode": {
    "name": "ipython",
    "version": 3
   },
   "file_extension": ".py",
   "mimetype": "text/x-python",
   "name": "python",
   "nbconvert_exporter": "python",
   "pygments_lexer": "ipython3",
   "version": "3.11.5"
  }
 },
 "nbformat": 4,
 "nbformat_minor": 4
}
